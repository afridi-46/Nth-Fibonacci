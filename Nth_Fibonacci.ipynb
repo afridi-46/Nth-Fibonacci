{
  "nbformat": 4,
  "nbformat_minor": 0,
  "metadata": {
    "colab": {
      "provenance": []
    },
    "kernelspec": {
      "name": "python3",
      "display_name": "Python 3"
    },
    "language_info": {
      "name": "python"
    }
  },
  "cells": [
    {
      "cell_type": "code",
      "source": [
        "n = int(input(\"Enter input number : \"))\n",
        "def Fibo(n):\n",
        "    if n<= 0:\n",
        "        print(\"Incorrect input\")\n",
        "\n",
        "    elif n == 1:\n",
        "        return 0\n",
        "\n",
        "    elif n == 2:\n",
        "        return 1\n",
        "    else:\n",
        "        return Fibo(n-1)+Fibo(n-2)\n",
        "\n",
        "\n",
        "print(Fibo(n))"
      ],
      "metadata": {
        "id": "nHkaD18h38bw",
        "colab": {
          "base_uri": "https://localhost:8080/"
        },
        "outputId": "8051c25d-7175-474d-bb53-1df28c0d251f"
      },
      "execution_count": 1,
      "outputs": [
        {
          "output_type": "stream",
          "name": "stdout",
          "text": [
            "Enter input number : 8\n",
            "13\n"
          ]
        }
      ]
    }
  ]
}